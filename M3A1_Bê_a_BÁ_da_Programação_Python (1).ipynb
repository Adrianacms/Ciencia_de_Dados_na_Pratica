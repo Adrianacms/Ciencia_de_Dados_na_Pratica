{
  "nbformat": 4,
  "nbformat_minor": 0,
  "metadata": {
    "colab": {
      "name": "M3A1 - Bê-a-BÁ da Programação Python.ipynb",
      "provenance": [],
      "collapsed_sections": [
        "hzUPnhVCA01h",
        "16HQ7zE62eGr",
        "poBtdVbA2eG1",
        "WtT7tJGu2eHD",
        "mHR-HTtm2eHH",
        "eGNyhMnR2eHa",
        "9UoIPQhM2eIH",
        "t3K2fvY52eIS",
        "wC61Bnce2eI5",
        "1qnFxcCe2eJI",
        "neuVYttL2eJW",
        "gCy-a5fl2eJh"
      ]
    },
    "kernelspec": {
      "name": "python3",
      "display_name": "Python 3"
    }
  },
  "cells": [
    {
      "cell_type": "markdown",
      "metadata": {
        "id": "mZVCagpZvZfE"
      },
      "source": [
        "![alt text](https://encrypted-tbn0.gstatic.com/images?q=tbn%3AANd9GcTK4gQ9nhwHHaSXMHpeggWg7twwMCgb877smkRmtkmDeDoGF9Z6&usqp=CAU)"
      ]
    },
    {
      "cell_type": "markdown",
      "metadata": {
        "id": "nbPb0q01k11H"
      },
      "source": [
        "##<font color='blue'>CDP - Cientista de Dados na Prática </font>\n",
        "\n",
        "##<font color='grey'>Módulo 3</font>\n",
        " \n"
      ]
    },
    {
      "cell_type": "markdown",
      "metadata": {
        "id": "hzUPnhVCA01h"
      },
      "source": [
        "# Primeiros Comandos Python"
      ]
    },
    {
      "cell_type": "code",
      "metadata": {
        "id": "7BX1nzjC2eFo"
      },
      "source": [
        "# Esse é um comentário"
      ],
      "execution_count": 1,
      "outputs": []
    },
    {
      "cell_type": "code",
      "metadata": {
        "id": "HTpQmmjr2eFu"
      },
      "source": [
        "print ('Hello World')"
      ],
      "execution_count": null,
      "outputs": []
    },
    {
      "cell_type": "code",
      "metadata": {
        "id": "Ce0_ZqaG2eFz",
        "outputId": "df05b8b5-9ec7-495d-cb7c-e4504bb97d96",
        "colab": {
          "base_uri": "https://localhost:8080/",
          "height": 34
        }
      },
      "source": [
        "'Hello World'"
      ],
      "execution_count": 3,
      "outputs": [
        {
          "output_type": "execute_result",
          "data": {
            "application/vnd.google.colaboratory.intrinsic+json": {
              "type": "string"
            },
            "text/plain": [
              "'Hello World'"
            ]
          },
          "metadata": {
            "tags": []
          },
          "execution_count": 3
        }
      ]
    },
    {
      "cell_type": "code",
      "metadata": {
        "id": "KhkjiJAK2eF3"
      },
      "source": [
        "# Operações Matemáticas. Pressione CTRL + ENTER para executar a célula"
      ],
      "execution_count": null,
      "outputs": []
    },
    {
      "cell_type": "code",
      "metadata": {
        "id": "t36qspTY2eF7",
        "outputId": "60859424-abf9-4066-c103-a147bb12e7cc",
        "colab": {
          "base_uri": "https://localhost:8080/",
          "height": 34
        }
      },
      "source": [
        "2 + 10"
      ],
      "execution_count": 4,
      "outputs": [
        {
          "output_type": "execute_result",
          "data": {
            "text/plain": [
              "12"
            ]
          },
          "metadata": {
            "tags": []
          },
          "execution_count": 4
        }
      ]
    },
    {
      "cell_type": "code",
      "metadata": {
        "id": "eADnXTV-2eGA",
        "outputId": "952eca5b-3a28-4c31-dad8-1e504878b89b",
        "colab": {
          "base_uri": "https://localhost:8080/",
          "height": 34
        }
      },
      "source": [
        "# Subtração\n",
        "12 - 2"
      ],
      "execution_count": 5,
      "outputs": [
        {
          "output_type": "execute_result",
          "data": {
            "text/plain": [
              "10"
            ]
          },
          "metadata": {
            "tags": []
          },
          "execution_count": 5
        }
      ]
    },
    {
      "cell_type": "code",
      "metadata": {
        "id": "QatSQsQU2eGE"
      },
      "source": [
        "2 / 0"
      ],
      "execution_count": null,
      "outputs": []
    },
    {
      "cell_type": "code",
      "metadata": {
        "id": "f-fYR8-X2eGK"
      },
      "source": [
        "# Multiplicação"
      ],
      "execution_count": null,
      "outputs": []
    },
    {
      "cell_type": "code",
      "metadata": {
        "id": "mM8Atv0i2eGO",
        "outputId": "31a33b21-27a2-4b0c-fcca-afb5e23c0c76",
        "colab": {
          "base_uri": "https://localhost:8080/",
          "height": 34
        }
      },
      "source": [
        " 2 * 2"
      ],
      "execution_count": 7,
      "outputs": [
        {
          "output_type": "execute_result",
          "data": {
            "text/plain": [
              "4"
            ]
          },
          "metadata": {
            "tags": []
          },
          "execution_count": 7
        }
      ]
    },
    {
      "cell_type": "code",
      "metadata": {
        "id": "jz98z77k2eGU"
      },
      "source": [
        "# Divisão"
      ],
      "execution_count": null,
      "outputs": []
    },
    {
      "cell_type": "code",
      "metadata": {
        "id": "wBw3RViu2eGX",
        "outputId": "b1657c92-e593-4265-ea1d-c1c391eaee69",
        "colab": {
          "base_uri": "https://localhost:8080/",
          "height": 34
        }
      },
      "source": [
        "2 / 2 "
      ],
      "execution_count": 8,
      "outputs": [
        {
          "output_type": "execute_result",
          "data": {
            "text/plain": [
              "1.0"
            ]
          },
          "metadata": {
            "tags": []
          },
          "execution_count": 8
        }
      ]
    },
    {
      "cell_type": "code",
      "metadata": {
        "id": "G-NI9Qqb2eGd"
      },
      "source": [
        "# Numeros Float"
      ],
      "execution_count": null,
      "outputs": []
    },
    {
      "cell_type": "code",
      "metadata": {
        "id": "vw_StqNy2eGh",
        "outputId": "9b209221-4fa8-4ca5-f25b-0a636eb87bf2",
        "colab": {
          "base_uri": "https://localhost:8080/",
          "height": 34
        }
      },
      "source": [
        "3.2 + 6.6"
      ],
      "execution_count": 9,
      "outputs": [
        {
          "output_type": "execute_result",
          "data": {
            "text/plain": [
              "9.8"
            ]
          },
          "metadata": {
            "tags": []
          },
          "execution_count": 9
        }
      ]
    },
    {
      "cell_type": "code",
      "metadata": {
        "id": "OuhLjGB82eGk",
        "outputId": "836ad40f-a9fe-48fa-a456-a365ded44a76",
        "colab": {
          "base_uri": "https://localhost:8080/",
          "height": 34
        }
      },
      "source": [
        "8.8 / 2"
      ],
      "execution_count": 10,
      "outputs": [
        {
          "output_type": "execute_result",
          "data": {
            "text/plain": [
              "4.4"
            ]
          },
          "metadata": {
            "tags": []
          },
          "execution_count": 10
        }
      ]
    },
    {
      "cell_type": "code",
      "metadata": {
        "id": "DMs93BgP2eGo",
        "outputId": "6b4219a5-ccd9-4e4f-9107-5ce0b7174b35",
        "colab": {
          "base_uri": "https://localhost:8080/",
          "height": 34
        }
      },
      "source": [
        "10.2 * 2.5"
      ],
      "execution_count": 11,
      "outputs": [
        {
          "output_type": "execute_result",
          "data": {
            "text/plain": [
              "25.5"
            ]
          },
          "metadata": {
            "tags": []
          },
          "execution_count": 11
        }
      ]
    },
    {
      "cell_type": "markdown",
      "metadata": {
        "collapsed": true,
        "id": "16HQ7zE62eGr"
      },
      "source": [
        "# Funções no Python"
      ]
    },
    {
      "cell_type": "code",
      "metadata": {
        "id": "OM7L2-p92eGs"
      },
      "source": [
        "type(5)"
      ],
      "execution_count": null,
      "outputs": []
    },
    {
      "cell_type": "code",
      "metadata": {
        "id": "PWDl1Iuo2eGv"
      },
      "source": [
        "type(6.6)"
      ],
      "execution_count": null,
      "outputs": []
    },
    {
      "cell_type": "code",
      "metadata": {
        "id": "1QRfdZwd2eGy"
      },
      "source": [
        "type(\"Ciência dos Dados\")"
      ],
      "execution_count": null,
      "outputs": []
    },
    {
      "cell_type": "markdown",
      "metadata": {
        "collapsed": true,
        "id": "poBtdVbA2eG1"
      },
      "source": [
        "# Funções de Conversão"
      ]
    },
    {
      "cell_type": "code",
      "metadata": {
        "id": "wa1AEN_R2eG2",
        "outputId": "350a1d0a-7b26-4e3e-8c31-7f835528b1f0",
        "colab": {
          "base_uri": "https://localhost:8080/",
          "height": 34
        }
      },
      "source": [
        "int(6)"
      ],
      "execution_count": 15,
      "outputs": [
        {
          "output_type": "execute_result",
          "data": {
            "text/plain": [
              "6"
            ]
          },
          "metadata": {
            "tags": []
          },
          "execution_count": 15
        }
      ]
    },
    {
      "cell_type": "code",
      "metadata": {
        "id": "sjGhYJIq2eG5",
        "outputId": "34db3e74-d891-4b78-e83f-d0fc2a45772e",
        "colab": {
          "base_uri": "https://localhost:8080/",
          "height": 34
        }
      },
      "source": [
        "int(6.5)"
      ],
      "execution_count": 16,
      "outputs": [
        {
          "output_type": "execute_result",
          "data": {
            "text/plain": [
              "6"
            ]
          },
          "metadata": {
            "tags": []
          },
          "execution_count": 16
        }
      ]
    },
    {
      "cell_type": "code",
      "metadata": {
        "id": "Nlw6gP7k2eG7",
        "outputId": "bc8c9503-daec-4adf-f194-64efa78fe327",
        "colab": {
          "base_uri": "https://localhost:8080/",
          "height": 34
        }
      },
      "source": [
        "float(6.5)"
      ],
      "execution_count": 17,
      "outputs": [
        {
          "output_type": "execute_result",
          "data": {
            "text/plain": [
              "6.5"
            ]
          },
          "metadata": {
            "tags": []
          },
          "execution_count": 17
        }
      ]
    },
    {
      "cell_type": "code",
      "metadata": {
        "id": "y-qxEvx02eG-",
        "outputId": "18c793b4-d09a-4f25-e15b-9654c5a0a56e",
        "colab": {
          "base_uri": "https://localhost:8080/",
          "height": 34
        }
      },
      "source": [
        "float(6)"
      ],
      "execution_count": 18,
      "outputs": [
        {
          "output_type": "execute_result",
          "data": {
            "text/plain": [
              "6.0"
            ]
          },
          "metadata": {
            "tags": []
          },
          "execution_count": 18
        }
      ]
    },
    {
      "cell_type": "code",
      "metadata": {
        "id": "qdi5dMXS2eHA",
        "outputId": "ed67564e-3681-46ac-d47e-4f91d4e228ac",
        "colab": {
          "base_uri": "https://localhost:8080/",
          "height": 34
        }
      },
      "source": [
        "str(5)"
      ],
      "execution_count": 19,
      "outputs": [
        {
          "output_type": "execute_result",
          "data": {
            "application/vnd.google.colaboratory.intrinsic+json": {
              "type": "string"
            },
            "text/plain": [
              "'5'"
            ]
          },
          "metadata": {
            "tags": []
          },
          "execution_count": 19
        }
      ]
    },
    {
      "cell_type": "markdown",
      "metadata": {
        "collapsed": true,
        "id": "WtT7tJGu2eHD"
      },
      "source": [
        "# Funções de Arredodamento"
      ]
    },
    {
      "cell_type": "code",
      "metadata": {
        "id": "2mI22ij92eHE",
        "outputId": "b671b430-7328-47b3-8941-1b318af57761",
        "colab": {
          "base_uri": "https://localhost:8080/",
          "height": 34
        }
      },
      "source": [
        "round(2.898)"
      ],
      "execution_count": 20,
      "outputs": [
        {
          "output_type": "execute_result",
          "data": {
            "text/plain": [
              "3"
            ]
          },
          "metadata": {
            "tags": []
          },
          "execution_count": 20
        }
      ]
    },
    {
      "cell_type": "code",
      "metadata": {
        "id": "k79f3jys2eHG",
        "outputId": "60dee275-0565-40ed-f1ac-cb3db0f56cfd",
        "colab": {
          "base_uri": "https://localhost:8080/",
          "height": 34
        }
      },
      "source": [
        "round(2.4545455,1)"
      ],
      "execution_count": 22,
      "outputs": [
        {
          "output_type": "execute_result",
          "data": {
            "text/plain": [
              "2.5"
            ]
          },
          "metadata": {
            "tags": []
          },
          "execution_count": 22
        }
      ]
    },
    {
      "cell_type": "markdown",
      "metadata": {
        "collapsed": true,
        "id": "mHR-HTtm2eHH"
      },
      "source": [
        "# Trabalhando com Variáveis"
      ]
    },
    {
      "cell_type": "code",
      "metadata": {
        "id": "JpSh4FaM2eHI"
      },
      "source": [
        "var1 = 1\n",
        "var2 = 2 \n",
        "var3 = 3"
      ],
      "execution_count": null,
      "outputs": []
    },
    {
      "cell_type": "code",
      "metadata": {
        "id": "gP2r3m8G2eHJ"
      },
      "source": [
        "var1"
      ],
      "execution_count": null,
      "outputs": []
    },
    {
      "cell_type": "code",
      "metadata": {
        "id": "VnERf65Y2eHL"
      },
      "source": [
        "type(var1)"
      ],
      "execution_count": null,
      "outputs": []
    },
    {
      "cell_type": "code",
      "metadata": {
        "id": "ottkH4gF2eHN"
      },
      "source": [
        "var4 = 10"
      ],
      "execution_count": null,
      "outputs": []
    },
    {
      "cell_type": "code",
      "metadata": {
        "id": "_4OHWFXo2eHP"
      },
      "source": [
        "var4"
      ],
      "execution_count": null,
      "outputs": []
    },
    {
      "cell_type": "code",
      "metadata": {
        "id": "K-JEjHP52eHQ"
      },
      "source": [
        "var1 + var2"
      ],
      "execution_count": null,
      "outputs": []
    },
    {
      "cell_type": "code",
      "metadata": {
        "id": "c9Rxcval2eHS"
      },
      "source": [
        "# Reatribuindo um valor a variável var1 graças a TIPAGEM DINÂMICA"
      ],
      "execution_count": null,
      "outputs": []
    },
    {
      "cell_type": "code",
      "metadata": {
        "id": "Qw0CIau6--Dq"
      },
      "source": [
        "dos"
      ],
      "execution_count": null,
      "outputs": []
    },
    {
      "cell_type": "code",
      "metadata": {
        "id": "L778v1z-2eHU"
      },
      "source": [
        "var1 = 'Ciência dos  Forever'"
      ],
      "execution_count": null,
      "outputs": []
    },
    {
      "cell_type": "code",
      "metadata": {
        "id": "VEirX7HT2eHV"
      },
      "source": [
        "type(var1)"
      ],
      "execution_count": null,
      "outputs": []
    },
    {
      "cell_type": "code",
      "metadata": {
        "id": "k5n5rmTT2eHX"
      },
      "source": [
        "var2 = 6.78"
      ],
      "execution_count": null,
      "outputs": []
    },
    {
      "cell_type": "code",
      "metadata": {
        "id": "JX7a8ODd2eHY"
      },
      "source": [
        "type(var2)"
      ],
      "execution_count": null,
      "outputs": []
    },
    {
      "cell_type": "markdown",
      "metadata": {
        "id": "eGNyhMnR2eHa"
      },
      "source": [
        "# Operacões Matemáticas e Variáveis"
      ]
    },
    {
      "cell_type": "code",
      "metadata": {
        "id": "Gsog6-Su2eHa"
      },
      "source": [
        "resultado = var2 * 10"
      ],
      "execution_count": null,
      "outputs": []
    },
    {
      "cell_type": "code",
      "metadata": {
        "id": "Qxq_Kp4h2eHc"
      },
      "source": [
        "resultado"
      ],
      "execution_count": null,
      "outputs": []
    },
    {
      "cell_type": "code",
      "metadata": {
        "id": "VAFk47ey2eHl"
      },
      "source": [
        "resultado = 200 / 3"
      ],
      "execution_count": null,
      "outputs": []
    },
    {
      "cell_type": "code",
      "metadata": {
        "id": "TbfDuzxO2eH0"
      },
      "source": [
        "resultado"
      ],
      "execution_count": null,
      "outputs": []
    },
    {
      "cell_type": "code",
      "metadata": {
        "id": "nO4we1v02eH6"
      },
      "source": [
        "## Declarando vários valores a variaveis"
      ],
      "execution_count": null,
      "outputs": []
    },
    {
      "cell_type": "code",
      "metadata": {
        "id": "8LCzs-V_2eH9"
      },
      "source": [
        "variavel1, variavel2 = 1, 'Teste'"
      ],
      "execution_count": null,
      "outputs": []
    },
    {
      "cell_type": "code",
      "metadata": {
        "id": "Tbo9WatT2eIB"
      },
      "source": [
        "variavel1"
      ],
      "execution_count": null,
      "outputs": []
    },
    {
      "cell_type": "code",
      "metadata": {
        "id": "b8AK-op32eIE"
      },
      "source": [
        "variavel2"
      ],
      "execution_count": null,
      "outputs": []
    },
    {
      "cell_type": "markdown",
      "metadata": {
        "id": "9UoIPQhM2eIH"
      },
      "source": [
        "# Restrições para criação de variáveis"
      ]
    },
    {
      "cell_type": "code",
      "metadata": {
        "id": "WQjRN83T2eIH"
      },
      "source": [
        "variavel_teste = 2"
      ],
      "execution_count": null,
      "outputs": []
    },
    {
      "cell_type": "code",
      "metadata": {
        "id": "6xfW8TWj2eIJ"
      },
      "source": [
        "variavel_teste"
      ],
      "execution_count": null,
      "outputs": []
    },
    {
      "cell_type": "code",
      "metadata": {
        "id": "60g2i1fb2eIL"
      },
      "source": [
        "var2 = 10"
      ],
      "execution_count": null,
      "outputs": []
    },
    {
      "cell_type": "code",
      "metadata": {
        "id": "2JXA4ytI2eIN"
      },
      "source": [
        "for= 5"
      ],
      "execution_count": null,
      "outputs": []
    },
    {
      "cell_type": "code",
      "metadata": {
        "id": "HLTH4r-q2eIP"
      },
      "source": [
        "# Palavras Reservadas não são permitidas: break, if, else, print etc..."
      ],
      "execution_count": null,
      "outputs": []
    },
    {
      "cell_type": "markdown",
      "metadata": {
        "id": "t3K2fvY52eIS"
      },
      "source": [
        "# Trabalhando com Strings"
      ]
    },
    {
      "cell_type": "code",
      "metadata": {
        "id": "vVUs2h3n2eIT"
      },
      "source": [
        "# Criando uma variável do tipo String"
      ],
      "execution_count": null,
      "outputs": []
    },
    {
      "cell_type": "code",
      "metadata": {
        "id": "eAySjNNe2eIU"
      },
      "source": [
        "frase = 'Python eh uma linguagem sensacional'"
      ],
      "execution_count": null,
      "outputs": []
    },
    {
      "cell_type": "code",
      "metadata": {
        "id": "omv4t80D2eIX"
      },
      "source": [
        "frase"
      ],
      "execution_count": null,
      "outputs": []
    },
    {
      "cell_type": "code",
      "metadata": {
        "id": "O0py9zyw2eIZ"
      },
      "source": [
        "# Indexando Strings."
      ],
      "execution_count": null,
      "outputs": []
    },
    {
      "cell_type": "code",
      "metadata": {
        "id": "2UdGN4Zs2eIb"
      },
      "source": [
        "# Importante!! o índice começa com o numero 0.\n",
        "frase[0]"
      ],
      "execution_count": null,
      "outputs": []
    },
    {
      "cell_type": "code",
      "metadata": {
        "id": "Bp_MqY9T2eId"
      },
      "source": [
        "frase[1]"
      ],
      "execution_count": null,
      "outputs": []
    },
    {
      "cell_type": "code",
      "metadata": {
        "id": "M6wIc6mA2eIe"
      },
      "source": [
        "frase[0] = 'R'"
      ],
      "execution_count": null,
      "outputs": []
    },
    {
      "cell_type": "code",
      "metadata": {
        "id": "Hg1YsiOf2eIi"
      },
      "source": [
        "# Slicing: Percorrendo Strings"
      ],
      "execution_count": null,
      "outputs": []
    },
    {
      "cell_type": "code",
      "metadata": {
        "id": "IjLH0RLo2eIk"
      },
      "source": [
        "frase[0:6]"
      ],
      "execution_count": null,
      "outputs": []
    },
    {
      "cell_type": "code",
      "metadata": {
        "id": "fMYRmZwG2eIl"
      },
      "source": [
        "frase[6:]"
      ],
      "execution_count": null,
      "outputs": []
    },
    {
      "cell_type": "code",
      "metadata": {
        "id": "eMQS3JQH2eIn"
      },
      "source": [
        "frase[:6]"
      ],
      "execution_count": null,
      "outputs": []
    },
    {
      "cell_type": "code",
      "metadata": {
        "id": "Id0Rc4I82eIo"
      },
      "source": [
        "# Concatennado Strings"
      ],
      "execution_count": null,
      "outputs": []
    },
    {
      "cell_type": "code",
      "metadata": {
        "id": "FDkS6xJP2eIp"
      },
      "source": [
        "frase1 = 'Python eh uma linguagem fenomenal'"
      ],
      "execution_count": null,
      "outputs": []
    },
    {
      "cell_type": "code",
      "metadata": {
        "id": "Ri2R2izv2eIr"
      },
      "source": [
        "frase2 = ' para qualquer cientista de dados'"
      ],
      "execution_count": null,
      "outputs": []
    },
    {
      "cell_type": "code",
      "metadata": {
        "id": "9wptItAB2eIs"
      },
      "source": [
        "frase3 = frase1 + frase2"
      ],
      "execution_count": null,
      "outputs": []
    },
    {
      "cell_type": "code",
      "metadata": {
        "id": "9c6L4keX2eIt"
      },
      "source": [
        "# Objeto String - Métodos"
      ],
      "execution_count": null,
      "outputs": []
    },
    {
      "cell_type": "code",
      "metadata": {
        "id": "6Hw_fx0p2eIu"
      },
      "source": [
        "frase = 'Minerando Dados a maior comunidade de Data Science do Brasil.'"
      ],
      "execution_count": null,
      "outputs": []
    },
    {
      "cell_type": "code",
      "metadata": {
        "id": "up8lnUMM2eIx"
      },
      "source": [
        "frase.count('Dados')"
      ],
      "execution_count": null,
      "outputs": []
    },
    {
      "cell_type": "code",
      "metadata": {
        "id": "g87wmHHa2eIy"
      },
      "source": [
        "# A função lower()"
      ],
      "execution_count": null,
      "outputs": []
    },
    {
      "cell_type": "code",
      "metadata": {
        "id": "hfbLyM6K2eIz"
      },
      "source": [
        "frase.lower()"
      ],
      "execution_count": null,
      "outputs": []
    },
    {
      "cell_type": "code",
      "metadata": {
        "id": "7VSWLEl72eI0"
      },
      "source": [
        "frase.upper()"
      ],
      "execution_count": null,
      "outputs": []
    },
    {
      "cell_type": "code",
      "metadata": {
        "id": "pYdU5G6O2eI1"
      },
      "source": [
        "frase.capitalize()"
      ],
      "execution_count": null,
      "outputs": []
    },
    {
      "cell_type": "code",
      "metadata": {
        "id": "av2z-XDn2eI2"
      },
      "source": [
        "frase.islower()"
      ],
      "execution_count": null,
      "outputs": []
    },
    {
      "cell_type": "code",
      "metadata": {
        "id": "uy6aUpRt2eI3"
      },
      "source": [
        "# Quebrando a string em uma lista de termos\n",
        "frase.split()"
      ],
      "execution_count": null,
      "outputs": []
    },
    {
      "cell_type": "markdown",
      "metadata": {
        "id": "wC61Bnce2eI5"
      },
      "source": [
        "# Trabalhando com Listas"
      ]
    },
    {
      "cell_type": "code",
      "metadata": {
        "id": "v6Wyng5b2eI6"
      },
      "source": [
        "# Sintaxe para criar listas no Python\n",
        "bixos = [1,2,3]\n",
        "bixos"
      ],
      "execution_count": null,
      "outputs": []
    },
    {
      "cell_type": "code",
      "metadata": {
        "id": "TjKV68fN2eI7"
      },
      "source": [
        "# listas com tipos de dados diferentes\n",
        "bixos = ['dog','cat',122344545,13.9,[0,0,1]]"
      ],
      "execution_count": null,
      "outputs": []
    },
    {
      "cell_type": "code",
      "metadata": {
        "id": "fHeiW3h72eI8"
      },
      "source": [
        "bixos"
      ],
      "execution_count": null,
      "outputs": []
    },
    {
      "cell_type": "code",
      "metadata": {
        "id": "KrUaHwIB2eI9"
      },
      "source": [
        "# Indices de elementos"
      ],
      "execution_count": null,
      "outputs": []
    },
    {
      "cell_type": "code",
      "metadata": {
        "id": "CtoQT_uv2eI-"
      },
      "source": [
        "bixos[0]"
      ],
      "execution_count": null,
      "outputs": []
    },
    {
      "cell_type": "code",
      "metadata": {
        "id": "lNv2SYih2eJA"
      },
      "source": [
        "bixos[3]"
      ],
      "execution_count": null,
      "outputs": []
    },
    {
      "cell_type": "code",
      "metadata": {
        "id": "KA381A7h2eJB"
      },
      "source": [
        "# Atualizando o valor 1 da lista\n",
        "bixos[0] = 'Horse'"
      ],
      "execution_count": null,
      "outputs": []
    },
    {
      "cell_type": "code",
      "metadata": {
        "id": "VPxrVnQV2eJC"
      },
      "source": [
        "bixos"
      ],
      "execution_count": null,
      "outputs": []
    },
    {
      "cell_type": "code",
      "metadata": {
        "id": "y825PQv52eJD"
      },
      "source": [
        "# Slicing em Listas"
      ],
      "execution_count": null,
      "outputs": []
    },
    {
      "cell_type": "code",
      "metadata": {
        "id": "rlpgqAi12eJF"
      },
      "source": [
        "bixos[1:]"
      ],
      "execution_count": null,
      "outputs": []
    },
    {
      "cell_type": "code",
      "metadata": {
        "id": "D0xBxXNu2eJG"
      },
      "source": [
        "# removendo elementos\n",
        "bixos.remove('cat')"
      ],
      "execution_count": null,
      "outputs": []
    },
    {
      "cell_type": "code",
      "metadata": {
        "id": "PvHU1Ajl2eJH"
      },
      "source": [
        "bixos"
      ],
      "execution_count": null,
      "outputs": []
    },
    {
      "cell_type": "markdown",
      "metadata": {
        "id": "1qnFxcCe2eJI"
      },
      "source": [
        "# Operações em Listas"
      ]
    },
    {
      "cell_type": "code",
      "metadata": {
        "id": "TV4LunzJ2eJI"
      },
      "source": [
        "len(bixos)"
      ],
      "execution_count": null,
      "outputs": []
    },
    {
      "cell_type": "code",
      "metadata": {
        "id": "hezQja-42eJJ"
      },
      "source": [
        "# Concatenando listas"
      ],
      "execution_count": null,
      "outputs": []
    },
    {
      "cell_type": "code",
      "metadata": {
        "id": "FsP9eaIE2eJK"
      },
      "source": [
        "bixos + [200,'Minerando','Dados']"
      ],
      "execution_count": null,
      "outputs": []
    },
    {
      "cell_type": "code",
      "metadata": {
        "id": "5S6PFLMs2eJL"
      },
      "source": [
        "# Check elementos"
      ],
      "execution_count": null,
      "outputs": []
    },
    {
      "cell_type": "code",
      "metadata": {
        "id": "-NvQ0Lc82eJM"
      },
      "source": [
        "'cat' in bixos"
      ],
      "execution_count": null,
      "outputs": []
    },
    {
      "cell_type": "code",
      "metadata": {
        "id": "RjpaEueJ2eJM"
      },
      "source": [
        "# Valor máximo da lista"
      ],
      "execution_count": null,
      "outputs": []
    },
    {
      "cell_type": "code",
      "metadata": {
        "id": "6igKrlZe2eJN"
      },
      "source": [
        "max(bixos)"
      ],
      "execution_count": null,
      "outputs": []
    },
    {
      "cell_type": "code",
      "metadata": {
        "id": "AhylqCUJ2eJQ"
      },
      "source": [
        "lista = [1,500,23,90,56788]"
      ],
      "execution_count": null,
      "outputs": []
    },
    {
      "cell_type": "code",
      "metadata": {
        "id": "gUWfz3gh2eJR"
      },
      "source": [
        "max(lista)"
      ],
      "execution_count": null,
      "outputs": []
    },
    {
      "cell_type": "code",
      "metadata": {
        "id": "iEKy28Uk2eJS"
      },
      "source": [
        "# Valor mínimo da Lista"
      ],
      "execution_count": null,
      "outputs": []
    },
    {
      "cell_type": "code",
      "metadata": {
        "id": "UcSxySo_2eJT"
      },
      "source": [
        "min(lista)"
      ],
      "execution_count": null,
      "outputs": []
    },
    {
      "cell_type": "code",
      "metadata": {
        "id": "dPTBHWZX2eJU"
      },
      "source": [
        "# Multiplicação de Elementos"
      ],
      "execution_count": null,
      "outputs": []
    },
    {
      "cell_type": "code",
      "metadata": {
        "id": "sRgAoz7D2eJV"
      },
      "source": [
        "['Olá'] * 3"
      ],
      "execution_count": null,
      "outputs": []
    },
    {
      "cell_type": "markdown",
      "metadata": {
        "id": "neuVYttL2eJW"
      },
      "source": [
        "# Métodos em Listas"
      ]
    },
    {
      "cell_type": "code",
      "metadata": {
        "id": "8KVSMplF2eJW"
      },
      "source": [
        "# È possivel visualizar os métodos existentes do objeto lista (digite o nome do objeto + . + tab)\n",
        "bixos."
      ],
      "execution_count": null,
      "outputs": []
    },
    {
      "cell_type": "code",
      "metadata": {
        "id": "_391kDyg2eJX"
      },
      "source": [
        "# Adiciona elemento na lista\n",
        "bixos.append('snake')"
      ],
      "execution_count": null,
      "outputs": []
    },
    {
      "cell_type": "code",
      "metadata": {
        "id": "3ylne5KL2eJY"
      },
      "source": [
        "bixos"
      ],
      "execution_count": null,
      "outputs": []
    },
    {
      "cell_type": "code",
      "metadata": {
        "id": "bSy6IMG22eJZ"
      },
      "source": [
        "# Extende a lista com mais de um elemento.\n",
        "bixos.extend(['lion',10.5])\n",
        "bixos"
      ],
      "execution_count": null,
      "outputs": []
    },
    {
      "cell_type": "code",
      "metadata": {
        "id": "PXLQ0NyH2eJa"
      },
      "source": [
        "bixos.index('snake')"
      ],
      "execution_count": null,
      "outputs": []
    },
    {
      "cell_type": "code",
      "metadata": {
        "id": "coZsLHXn2eJb"
      },
      "source": [
        "bixos.remove('snake')"
      ],
      "execution_count": null,
      "outputs": []
    },
    {
      "cell_type": "code",
      "metadata": {
        "id": "rRpPMGfR2eJc"
      },
      "source": [
        "bixos.count('dog')"
      ],
      "execution_count": null,
      "outputs": []
    },
    {
      "cell_type": "code",
      "metadata": {
        "id": "QfwVQSnW2eJe"
      },
      "source": [
        "bixos.sort()"
      ],
      "execution_count": null,
      "outputs": []
    },
    {
      "cell_type": "code",
      "metadata": {
        "id": "71SUkORK2eJe"
      },
      "source": [
        "# Ordenação de lista de inteiros\n",
        "lista = [1,500,23,90,56788]\n",
        "lista2 = ['casa','rio','lua','agua']"
      ],
      "execution_count": null,
      "outputs": []
    },
    {
      "cell_type": "code",
      "metadata": {
        "id": "H3nbtvEf2eJf"
      },
      "source": [
        "lista.sort()\n",
        "lista"
      ],
      "execution_count": null,
      "outputs": []
    },
    {
      "cell_type": "markdown",
      "metadata": {
        "id": "gCy-a5fl2eJh"
      },
      "source": [
        "# Lista Aninhadas"
      ]
    },
    {
      "cell_type": "code",
      "metadata": {
        "id": "9NZIuhJA2eJh"
      },
      "source": [
        "# lista que contém 3 listas\n",
        "listas = [ ['cat','dog','snake'], ['Audi','Ferrari','Porsche'], [10,100,200] ]"
      ],
      "execution_count": null,
      "outputs": []
    },
    {
      "cell_type": "code",
      "metadata": {
        "id": "QcaqtoNQ2eJj",
        "outputId": "ea40ed3d-6324-4e95-d2cc-7e5d32885d04"
      },
      "source": [
        "listas"
      ],
      "execution_count": null,
      "outputs": [
        {
          "output_type": "execute_result",
          "data": {
            "text/plain": [
              "[['cat', 'dog', 'snake'], ['Audi', 'Ferrari', 'Porsche'], [10, 100, 200]]"
            ]
          },
          "metadata": {
            "tags": []
          },
          "execution_count": 2
        }
      ]
    },
    {
      "cell_type": "code",
      "metadata": {
        "id": "XtcB1l2q2eJl",
        "outputId": "3b597c8d-bf4c-442b-92fa-daf56597a493"
      },
      "source": [
        "# Imprimindo o primeiro elemento (lista de animais)\n",
        "listas[0]"
      ],
      "execution_count": null,
      "outputs": [
        {
          "output_type": "execute_result",
          "data": {
            "text/plain": [
              "['cat', 'dog', 'snake']"
            ]
          },
          "metadata": {
            "tags": []
          },
          "execution_count": 3
        }
      ]
    },
    {
      "cell_type": "code",
      "metadata": {
        "id": "zRh6OnzN2eJm",
        "outputId": "62a3a36d-7fcf-4c93-b917-b513d842992a"
      },
      "source": [
        "# Imprimindo o segundo elemento (lista de carros)\n",
        "listas[1]"
      ],
      "execution_count": null,
      "outputs": [
        {
          "output_type": "execute_result",
          "data": {
            "text/plain": [
              "['Audi', 'Ferrari', 'Porsche']"
            ]
          },
          "metadata": {
            "tags": []
          },
          "execution_count": 4
        }
      ]
    },
    {
      "cell_type": "code",
      "metadata": {
        "id": "weVOgNf-2eJn",
        "outputId": "d10c5047-ca66-4398-ec8f-025a419a8a00"
      },
      "source": [
        "# Imprimindo o terceiro elemento (lista de inteiros)\n",
        "listas[2]"
      ],
      "execution_count": null,
      "outputs": [
        {
          "output_type": "execute_result",
          "data": {
            "text/plain": [
              "[10, 100, 200]"
            ]
          },
          "metadata": {
            "tags": []
          },
          "execution_count": 5
        }
      ]
    },
    {
      "cell_type": "code",
      "metadata": {
        "id": "3fE4oVP62eJo",
        "outputId": "f16fee9d-43ca-486e-daca-5fc8d45a2950"
      },
      "source": [
        "# Imprimindo o 1 carro da lista de carros\n",
        "listas[1][0]"
      ],
      "execution_count": null,
      "outputs": [
        {
          "output_type": "execute_result",
          "data": {
            "text/plain": [
              "'Audi'"
            ]
          },
          "metadata": {
            "tags": []
          },
          "execution_count": 6
        }
      ]
    },
    {
      "cell_type": "code",
      "metadata": {
        "id": "VivczWna2eJo",
        "outputId": "b84b5682-e396-4bc7-a0a7-ea5fbc8c07e4"
      },
      "source": [
        "# Imprimindo o 2 carro da lista de carros\n",
        "listas[1][1]"
      ],
      "execution_count": null,
      "outputs": [
        {
          "output_type": "execute_result",
          "data": {
            "text/plain": [
              "'Ferrari'"
            ]
          },
          "metadata": {
            "tags": []
          },
          "execution_count": 7
        }
      ]
    },
    {
      "cell_type": "code",
      "metadata": {
        "id": "Mltv5Wcu2eJp",
        "outputId": "dd903e7b-fb44-4509-9728-c29ccde0237b"
      },
      "source": [
        "# Imprimindo o ultimo valor da lista de numeros\n",
        "listas[2][2]"
      ],
      "execution_count": null,
      "outputs": [
        {
          "output_type": "execute_result",
          "data": {
            "text/plain": [
              "200"
            ]
          },
          "metadata": {
            "tags": []
          },
          "execution_count": 8
        }
      ]
    },
    {
      "cell_type": "code",
      "metadata": {
        "id": "kXDsZLWs2eJq",
        "outputId": "7cf69192-f7ac-4158-e169-84310eddd4a3"
      },
      "source": [
        "# Operacão de repetição de elementos de linhas alinhadas. listas[0] * 3"
      ],
      "execution_count": null,
      "outputs": [
        {
          "output_type": "execute_result",
          "data": {
            "text/plain": [
              "['cat', 'dog', 'snake', 'cat', 'dog', 'snake', 'cat', 'dog', 'snake']"
            ]
          },
          "metadata": {
            "tags": []
          },
          "execution_count": 9
        }
      ]
    },
    {
      "cell_type": "code",
      "metadata": {
        "id": "MJs8RtDQ2eJr",
        "outputId": "bfdb4dfb-b9a7-4f1a-ed13-be4ea5fdc0b5"
      },
      "source": [
        "listas"
      ],
      "execution_count": null,
      "outputs": [
        {
          "output_type": "execute_result",
          "data": {
            "text/plain": [
              "[['cat', 'dog', 'snake'], ['Audi', 'Ferrari', 'Porsche'], [10, 100, 200]]"
            ]
          },
          "metadata": {
            "tags": []
          },
          "execution_count": 10
        }
      ]
    },
    {
      "cell_type": "markdown",
      "metadata": {
        "id": "MkJWGjyAk12N"
      },
      "source": [
        "# Obrigado!"
      ]
    }
  ]
}